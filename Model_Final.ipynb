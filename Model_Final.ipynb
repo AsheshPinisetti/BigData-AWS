{
 "cells": [
  {
   "cell_type": "code",
   "execution_count": 1,
   "id": "e357f9dc-7dd0-47b2-9c42-3e3fcba78d19",
   "metadata": {
    "execution": {
     "iopub.execute_input": "2024-11-09T02:22:18.411330Z",
     "iopub.status.busy": "2024-11-09T02:22:18.410981Z",
     "iopub.status.idle": "2024-11-09T02:22:29.648642Z",
     "shell.execute_reply": "2024-11-09T02:22:29.648152Z",
     "shell.execute_reply.started": "2024-11-09T02:22:18.411304Z"
    },
    "executionRoleArn": "arn:aws:iam::961341511683:role/service-role/AmazonEMRStudio_RuntimeRole_1731096402233",
    "tags": []
   },
   "outputs": [
    {
     "data": {
      "application/vnd.jupyter.widget-view+json": {
       "model_id": "fa492c1f6d4f4a009eb15ebb8e57fa0b",
       "version_major": 2,
       "version_minor": 0
      },
      "text/plain": [
       "VBox()"
      ]
     },
     "metadata": {},
     "output_type": "display_data"
    },
    {
     "name": "stdout",
     "output_type": "stream",
     "text": [
      "Starting Spark application\n"
     ]
    },
    {
     "data": {
      "text/html": [
       "<table>\n",
       "    <tr><th>ID</th><th>Kind</th><th>State</th><th>Spark UI</th><th>Driver log</th><th>User</th><th>Current session?</th></tr><tr><td>8</td><td>pyspark</td><td>idle</td><td><a target=\"_blank\" href=\"https://spark-live-ui.emr-serverless.amazonaws.com\" class=\"emr-proxy-link\" emr-runtime=\"emr-serverless\" emr-resource=\"00fnq9iu7avkc10e\" application-id=\"00fnq2uhbck0cr0d\">Link</a></td><td></td><td>None</td><td>✔</td></tr></table>"
      ],
      "text/plain": [
       "<IPython.core.display.HTML object>"
      ]
     },
     "metadata": {},
     "output_type": "display_data"
    },
    {
     "data": {
      "application/vnd.jupyter.widget-view+json": {
       "model_id": "",
       "version_major": 2,
       "version_minor": 0
      },
      "text/plain": [
       "FloatProgress(value=0.0, bar_style='info', description='Progress:', layout=Layout(height='25px', width='50%'),…"
      ]
     },
     "metadata": {},
     "output_type": "display_data"
    },
    {
     "name": "stdout",
     "output_type": "stream",
     "text": [
      "SparkSession available as 'spark'.\n"
     ]
    },
    {
     "data": {
      "application/vnd.jupyter.widget-view+json": {
       "model_id": "",
       "version_major": 2,
       "version_minor": 0
      },
      "text/plain": [
       "FloatProgress(value=0.0, bar_style='info', description='Progress:', layout=Layout(height='25px', width='50%'),…"
      ]
     },
     "metadata": {},
     "output_type": "display_data"
    }
   ],
   "source": [
    "from pyspark.sql import SparkSession\n",
    "from pyspark.sql.functions import when, col\n",
    "from pyspark.ml import PipelineModel\n",
    "from pyspark.ml.tuning import CrossValidatorModel\n",
    "\n",
    "# Initialize Spark Session\n",
    "spark = SparkSession.builder \\\n",
    "    .appName(\"COVID-19 Model Testing\") \\\n",
    "    .config(\"spark.sql.shuffle.partitions\", \"100\") \\\n",
    "    .config(\"spark.driver.memory\", \"8g\") \\\n",
    "    .config(\"spark.executor.memory\", \"8g\") \\\n",
    "    .config(\"spark.driver.maxResultSize\", \"2g\") \\\n",
    "    .getOrCreate()"
   ]
  },
  {
   "cell_type": "code",
   "execution_count": 2,
   "id": "37a699ab-d5ba-49e2-bcb1-988b35a0df43",
   "metadata": {
    "execution": {
     "iopub.execute_input": "2024-11-09T02:25:59.282852Z",
     "iopub.status.busy": "2024-11-09T02:25:59.282509Z",
     "iopub.status.idle": "2024-11-09T02:26:38.455651Z",
     "shell.execute_reply": "2024-11-09T02:26:38.455065Z",
     "shell.execute_reply.started": "2024-11-09T02:25:59.282828Z"
    },
    "executionRoleArn": "arn:aws:iam::961341511683:role/service-role/AmazonEMRStudio_RuntimeRole_1731096402233",
    "tags": []
   },
   "outputs": [
    {
     "data": {
      "application/vnd.jupyter.widget-view+json": {
       "model_id": "1a8b88480e09478aafb3f7b5c7f0f853",
       "version_major": 2,
       "version_minor": 0
      },
      "text/plain": [
       "VBox()"
      ]
     },
     "metadata": {},
     "output_type": "display_data"
    },
    {
     "data": {
      "application/vnd.jupyter.widget-view+json": {
       "model_id": "",
       "version_major": 2,
       "version_minor": 0
      },
      "text/plain": [
       "FloatProgress(value=0.0, bar_style='info', description='Progress:', layout=Layout(height='25px', width='50%'),…"
      ]
     },
     "metadata": {},
     "output_type": "display_data"
    }
   ],
   "source": [
    "# Load the saved model from S3\n",
    "model_path = \"s3://covid-data-project-final/model/\"\n",
    "loaded_model = CrossValidatorModel.load(model_path)\n",
    "\n",
    "# Load new data from S3\n",
    "new_data_path = \"s3://covid-data-project-final/new_test_data.csv\"\n",
    "new_data = spark.read.csv(new_data_path, header=True, inferSchema=True)\n",
    "\n",
    "# Convert CLASIFFICATION_FINAL to binary\n",
    "new_data = new_data.withColumn(\n",
    "    \"CLASIFFICATION_FINAL\",\n",
    "    when(col(\"CLASIFFICATION_FINAL\") <= 3, 0).otherwise(1)\n",
    ")\n",
    "\n",
    "# Handle missing values as per previous processing\n",
    "new_data_cleaned = new_data.na.drop()\n",
    "\n",
    "# Create AGE_GROUP feature (as done before)\n",
    "new_data_cleaned = new_data_cleaned.withColumn(\n",
    "    'AGE_GROUP',\n",
    "    when(col('AGE') < 20, 'Under 20')\n",
    "    .when((col('AGE') >= 20) & (col('AGE') < 40), '20-39')\n",
    "    .when((col('AGE') >= 40) & (col('AGE') < 60), '40-59')\n",
    "    .when(col('AGE') >= 60, '60 and above')\n",
    ")"
   ]
  },
  {
   "cell_type": "code",
   "execution_count": 4,
   "id": "a74d4bd6-91df-49c1-b55d-1a1324cdd926",
   "metadata": {
    "execution": {
     "iopub.execute_input": "2024-11-09T02:27:44.269577Z",
     "iopub.status.busy": "2024-11-09T02:27:44.268938Z",
     "iopub.status.idle": "2024-11-09T02:27:46.684693Z",
     "shell.execute_reply": "2024-11-09T02:27:46.684142Z",
     "shell.execute_reply.started": "2024-11-09T02:27:44.269549Z"
    },
    "executionRoleArn": "arn:aws:iam::961341511683:role/service-role/AmazonEMRStudio_RuntimeRole_1731096402233",
    "tags": []
   },
   "outputs": [
    {
     "data": {
      "application/vnd.jupyter.widget-view+json": {
       "model_id": "dacb2764bee844b4ab59d0a28535334c",
       "version_major": 2,
       "version_minor": 0
      },
      "text/plain": [
       "VBox()"
      ]
     },
     "metadata": {},
     "output_type": "display_data"
    },
    {
     "data": {
      "application/vnd.jupyter.widget-view+json": {
       "model_id": "",
       "version_major": 2,
       "version_minor": 0
      },
      "text/plain": [
       "FloatProgress(value=0.0, bar_style='info', description='Progress:', layout=Layout(height='25px', width='50%'),…"
      ]
     },
     "metadata": {},
     "output_type": "display_data"
    },
    {
     "name": "stdout",
     "output_type": "stream",
     "text": [
      "+--------------------+----------+\n",
      "|            features|prediction|\n",
      "+--------------------+----------+\n",
      "|(16,[0,3,7,10,11,...|       1.0|\n",
      "|(16,[1,2,3,9,12,1...|       0.0|\n",
      "|(16,[0,4,7,12,14,...|       1.0|\n",
      "|(16,[2,9,11,13,14...|       0.0|\n",
      "|(16,[1,4,5,7,15],...|       0.0|\n",
      "|(16,[0,1,2,7,8,13...|       0.0|\n",
      "|(16,[4,5,7,9,11,1...|       1.0|\n",
      "|(16,[0,1,5,7,12,1...|       0.0|\n",
      "|(16,[0,2,3,4,10,1...|       0.0|\n",
      "|(16,[1,2,5,14,15]...|       0.0|\n",
      "|(16,[0,4,6,7,9,12...|       1.0|\n",
      "|(16,[7,8,10,13,14...|       1.0|\n",
      "|(16,[0,1,2,6,7,12...|       0.0|\n",
      "|(16,[4,5,7,9,11,1...|       1.0|\n",
      "|(16,[0,1,2,3,9,11...|       0.0|\n",
      "|(16,[0,3,4,6,11,1...|       1.0|\n",
      "|(16,[1,2,7,9,13,1...|       0.0|\n",
      "|(16,[0,2,10,12,14...|       0.0|\n",
      "|(16,[1,3,4,7,9,14...|       0.0|\n",
      "|(16,[2,5,6,8,10,1...|       0.0|\n",
      "+--------------------+----------+"
     ]
    }
   ],
   "source": [
    "# Transform the new data with the saved model's pipeline and predict\n",
    "predictions = loaded_model.transform(new_data_cleaned)\n",
    "\n",
    "# Show predictions\n",
    "predictions.select(\"features\", \"prediction\").show(20)"
   ]
  }
 ],
 "metadata": {
  "kernelspec": {
   "display_name": "PySpark",
   "language": "python",
   "name": "spark_magic_pyspark"
  },
  "language_info": {
   "codemirror_mode": {
    "name": "python",
    "version": 3
   },
   "file_extension": ".py",
   "mimetype": "text/x-python",
   "name": "pyspark",
   "pygments_lexer": "python3"
  }
 },
 "nbformat": 4,
 "nbformat_minor": 5
}
