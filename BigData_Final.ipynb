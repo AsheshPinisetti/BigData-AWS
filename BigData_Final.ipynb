{
 "cells": [
  {
   "cell_type": "code",
   "execution_count": 1,
   "id": "341d28f6-9576-4b86-9173-92480b420dad",
   "metadata": {
    "execution": {
     "iopub.execute_input": "2024-11-09T01:43:59.111631Z",
     "iopub.status.busy": "2024-11-09T01:43:59.111071Z",
     "iopub.status.idle": "2024-11-09T01:44:15.405432Z",
     "shell.execute_reply": "2024-11-09T01:44:15.404955Z",
     "shell.execute_reply.started": "2024-11-09T01:43:59.111603Z"
    },
    "executionRoleArn": "arn:aws:iam::961341511683:role/service-role/AmazonEMRStudio_RuntimeRole_1731096402233",
    "tags": []
   },
   "outputs": [
    {
     "data": {
      "application/vnd.jupyter.widget-view+json": {
       "model_id": "817e81761d3943b89051036818103171",
       "version_major": 2,
       "version_minor": 0
      },
      "text/plain": [
       "VBox()"
      ]
     },
     "metadata": {},
     "output_type": "display_data"
    },
    {
     "name": "stdout",
     "output_type": "stream",
     "text": [
      "Starting Spark application\n"
     ]
    },
    {
     "data": {
      "text/html": [
       "<table>\n",
       "    <tr><th>ID</th><th>Kind</th><th>State</th><th>Spark UI</th><th>Driver log</th><th>User</th><th>Current session?</th></tr><tr><td>6</td><td>pyspark</td><td>idle</td><td><a target=\"_blank\" href=\"https://spark-live-ui.emr-serverless.amazonaws.com\" class=\"emr-proxy-link\" emr-runtime=\"emr-serverless\" emr-resource=\"00fnq8sst012hh0e\" application-id=\"00fnq2uhbck0cr0d\">Link</a></td><td></td><td>None</td><td>✔</td></tr></table>"
      ],
      "text/plain": [
       "<IPython.core.display.HTML object>"
      ]
     },
     "metadata": {},
     "output_type": "display_data"
    },
    {
     "data": {
      "application/vnd.jupyter.widget-view+json": {
       "model_id": "",
       "version_major": 2,
       "version_minor": 0
      },
      "text/plain": [
       "FloatProgress(value=0.0, bar_style='info', description='Progress:', layout=Layout(height='25px', width='50%'),…"
      ]
     },
     "metadata": {},
     "output_type": "display_data"
    },
    {
     "name": "stdout",
     "output_type": "stream",
     "text": [
      "SparkSession available as 'spark'.\n"
     ]
    },
    {
     "data": {
      "application/vnd.jupyter.widget-view+json": {
       "model_id": "",
       "version_major": 2,
       "version_minor": 0
      },
      "text/plain": [
       "FloatProgress(value=0.0, bar_style='info', description='Progress:', layout=Layout(height='25px', width='50%'),…"
      ]
     },
     "metadata": {},
     "output_type": "display_data"
    }
   ],
   "source": [
    "from pyspark.sql import functions as F\n",
    "from pyspark.sql import SparkSession\n",
    "from pyspark.sql.functions import avg, count, when, col\n",
    "from pyspark.ml import Pipeline\n",
    "from pyspark.ml.tuning import CrossValidator, ParamGridBuilder\n",
    "from pyspark.ml.feature import StringIndexer, VectorAssembler\n",
    "from pyspark.ml.classification import DecisionTreeClassifier, RandomForestClassifier, LogisticRegression, GBTClassifier\n",
    "from pyspark.ml.evaluation import BinaryClassificationEvaluator"
   ]
  },
  {
   "cell_type": "code",
   "execution_count": 2,
   "id": "90f753b2-5bf8-45ca-871e-47c5e8e2cf73",
   "metadata": {
    "execution": {
     "iopub.execute_input": "2024-11-09T01:44:26.131178Z",
     "iopub.status.busy": "2024-11-09T01:44:26.130815Z",
     "iopub.status.idle": "2024-11-09T01:44:38.959238Z",
     "shell.execute_reply": "2024-11-09T01:44:38.958738Z",
     "shell.execute_reply.started": "2024-11-09T01:44:26.131156Z"
    },
    "executionRoleArn": "arn:aws:iam::961341511683:role/service-role/AmazonEMRStudio_RuntimeRole_1731096402233",
    "tags": []
   },
   "outputs": [
    {
     "data": {
      "application/vnd.jupyter.widget-view+json": {
       "model_id": "e6f45ba224644314b58110914d20bf62",
       "version_major": 2,
       "version_minor": 0
      },
      "text/plain": [
       "VBox()"
      ]
     },
     "metadata": {},
     "output_type": "display_data"
    },
    {
     "data": {
      "application/vnd.jupyter.widget-view+json": {
       "model_id": "",
       "version_major": 2,
       "version_minor": 0
      },
      "text/plain": [
       "FloatProgress(value=0.0, bar_style='info', description='Progress:', layout=Layout(height='25px', width='50%'),…"
      ]
     },
     "metadata": {},
     "output_type": "display_data"
    }
   ],
   "source": [
    "spark = SparkSession.builder \\\n",
    "    .appName(\"COVID-19 Data Processing\") \\\n",
    "    .config(\"spark.sql.shuffle.partitions\", \"100\") \\\n",
    "    .config(\"spark.driver.memory\", \"8g\") \\\n",
    "    .config(\"spark.executor.memory\", \"8g\") \\\n",
    "    .config(\"spark.driver.maxResultSize\", \"2g\") \\\n",
    "    .config(\"spark.sql.execution.arrow.pyspark.enabled\", \"false\") \\\n",
    "    .getOrCreate()\n",
    "\n",
    "# Read CSV file from S3 and repartition for efficient processing\n",
    "covid_read = spark.read.csv(\"s3://covid-data-project-final/Covid Data.csv\", header=True, inferSchema=True)\n",
    "covid_read = covid_read.repartition(40)  # Adjust based on your instance capacity"
   ]
  },
  {
   "cell_type": "markdown",
   "id": "21d7ae55-c449-4545-91f1-2e624bd855e8",
   "metadata": {},
   "source": [
    "This initializes a Spark session with specific memory and partition settings for efficient data processing. Then reads a CSV file from an S3 bucket named \"covid-data-project-final\". Finally, it repartitions the data into 40 parts to optimize performance based on the instance's processing capacity."
   ]
  },
  {
   "cell_type": "code",
   "execution_count": 3,
   "id": "ba63202d-a94f-4d03-a4f9-213043b52906",
   "metadata": {
    "execution": {
     "iopub.execute_input": "2024-11-09T01:44:44.733103Z",
     "iopub.status.busy": "2024-11-09T01:44:44.732724Z",
     "iopub.status.idle": "2024-11-09T01:44:45.061259Z",
     "shell.execute_reply": "2024-11-09T01:44:45.060768Z",
     "shell.execute_reply.started": "2024-11-09T01:44:44.733080Z"
    },
    "executionRoleArn": "arn:aws:iam::961341511683:role/service-role/AmazonEMRStudio_RuntimeRole_1731096402233",
    "tags": []
   },
   "outputs": [
    {
     "data": {
      "application/vnd.jupyter.widget-view+json": {
       "model_id": "5431efef8c1346449b0ca402c920fc2e",
       "version_major": 2,
       "version_minor": 0
      },
      "text/plain": [
       "VBox()"
      ]
     },
     "metadata": {},
     "output_type": "display_data"
    },
    {
     "data": {
      "application/vnd.jupyter.widget-view+json": {
       "model_id": "",
       "version_major": 2,
       "version_minor": 0
      },
      "text/plain": [
       "FloatProgress(value=0.0, bar_style='info', description='Progress:', layout=Layout(height='25px', width='50%'),…"
      ]
     },
     "metadata": {},
     "output_type": "display_data"
    }
   ],
   "source": [
    "# Convert CLASIFFICATION_FINAL to binary classification\n",
    "covid_read = covid_read.withColumn(\n",
    "    \"CLASIFFICATION_FINAL\", \n",
    "    when(covid_read[\"CLASIFFICATION_FINAL\"] <= 3, 0).otherwise(1)\n",
    ")"
   ]
  },
  {
   "cell_type": "markdown",
   "id": "4c53a29e-203f-4abe-a31f-a69bf8181238",
   "metadata": {},
   "source": [
    "We converted the CLASIFFICATION_FINAL column in the dataset to a binary classification. If the value in CLASIFFICATION_FINAL is 3 or less, it is set to 0 (indicating \"has COVID\"). For any other value, it is set to 1 (indicating \"no COVID\").\n",
    "\n",
    "Dataset Description: classification: covid test findings. Values 1-3 mean that the patient was diagnosed with covid in different degrees. 4 or higher means that the patient is not a carrier of covid or that the test is inconclusive."
   ]
  },
  {
   "cell_type": "code",
   "execution_count": 4,
   "id": "a9c0d6e5-0eb5-4e4c-a8b6-efbf1b61c9cc",
   "metadata": {
    "execution": {
     "iopub.execute_input": "2024-11-09T01:44:52.664943Z",
     "iopub.status.busy": "2024-11-09T01:44:52.664572Z",
     "iopub.status.idle": "2024-11-09T01:45:00.127155Z",
     "shell.execute_reply": "2024-11-09T01:45:00.126652Z",
     "shell.execute_reply.started": "2024-11-09T01:44:52.664922Z"
    },
    "executionRoleArn": "arn:aws:iam::961341511683:role/service-role/AmazonEMRStudio_RuntimeRole_1731096402233",
    "tags": []
   },
   "outputs": [
    {
     "data": {
      "application/vnd.jupyter.widget-view+json": {
       "model_id": "e34b3e18721346febc855b5e8ce28b5e",
       "version_major": 2,
       "version_minor": 0
      },
      "text/plain": [
       "VBox()"
      ]
     },
     "metadata": {},
     "output_type": "display_data"
    },
    {
     "data": {
      "application/vnd.jupyter.widget-view+json": {
       "model_id": "",
       "version_major": 2,
       "version_minor": 0
      },
      "text/plain": [
       "FloatProgress(value=0.0, bar_style='info', description='Progress:', layout=Layout(height='25px', width='50%'),…"
      ]
     },
     "metadata": {},
     "output_type": "display_data"
    },
    {
     "name": "stdout",
     "output_type": "stream",
     "text": [
      "+-----+------------+---+------------+----------+-------+---------+---+--------+--------+----+------+-------+------------+-------------+--------------+-------+-------------+-------+--------------------+---+\n",
      "|USMER|MEDICAL_UNIT|SEX|PATIENT_TYPE|DATE_DIED |INTUBED|PNEUMONIA|AGE|PREGNANT|DIABETES|COPD|ASTHMA|INMSUPR|HIPERTENSION|OTHER_DISEASE|CARDIOVASCULAR|OBESITY|RENAL_CHRONIC|TOBACCO|CLASIFFICATION_FINAL|ICU|\n",
      "+-----+------------+---+------------+----------+-------+---------+---+--------+--------+----+------+-------+------------+-------------+--------------+-------+-------------+-------+--------------------+---+\n",
      "|2    |4           |2  |1           |9999-99-99|97     |2        |48 |97      |2       |2   |2     |2      |2           |2            |2             |2      |2            |2      |1                   |97 |\n",
      "|2    |4           |2  |1           |9999-99-99|97     |2        |48 |97      |2       |2   |2     |2      |2           |2            |2             |2      |2            |2      |1                   |97 |\n",
      "|1    |4           |2  |1           |9999-99-99|97     |2        |47 |97      |2       |2   |1     |1      |1           |2            |2             |2      |2            |2      |1                   |97 |\n",
      "|1    |4           |1  |1           |9999-99-99|97     |99       |36 |2       |2       |2   |2     |2      |2           |2            |2             |2      |2            |2      |1                   |97 |\n",
      "|1    |4           |2  |1           |9999-99-99|97     |2        |22 |97      |2       |2   |2     |2      |2           |2            |2             |2      |2            |2      |1                   |97 |\n",
      "|1    |4           |2  |1           |9999-99-99|97     |2        |22 |97      |2       |2   |2     |2      |2           |2            |2             |2      |2            |2      |1                   |97 |\n",
      "|1    |4           |2  |2           |9999-99-99|99     |99       |7  |97      |2       |2   |2     |2      |2           |2            |2             |2      |2            |2      |1                   |99 |\n",
      "|1    |4           |1  |1           |9999-99-99|97     |2        |47 |2       |1       |2   |2     |2      |1           |2            |2             |2      |2            |2      |1                   |97 |\n",
      "|2    |4           |2  |2           |9999-99-99|2      |1        |35 |97      |1       |2   |2     |2      |2           |2            |2             |2      |2            |2      |1                   |2  |\n",
      "|2    |4           |1  |1           |9999-99-99|97     |2        |50 |2       |2       |2   |2     |2      |2           |2            |2             |2      |2            |2      |1                   |97 |\n",
      "|2    |4           |1  |1           |9999-99-99|97     |2        |50 |2       |2       |2   |2     |2      |2           |2            |2             |2      |2            |2      |1                   |97 |\n",
      "|2    |4           |1  |1           |9999-99-99|97     |2        |50 |2       |2       |2   |2     |2      |2           |2            |2             |2      |2            |2      |1                   |97 |\n",
      "|2    |4           |1  |1           |9999-99-99|97     |2        |50 |2       |2       |2   |2     |2      |2           |2            |2             |2      |2            |2      |1                   |97 |\n",
      "|1    |4           |1  |1           |9999-99-99|97     |2        |33 |2       |2       |2   |2     |2      |2           |1            |2             |2      |2            |2      |1                   |97 |\n",
      "|2    |4           |1  |1           |9999-99-99|97     |2        |64 |2       |1       |2   |2     |2      |2           |2            |2             |2      |2            |2      |1                   |97 |\n",
      "|1    |4           |1  |1           |9999-99-99|97     |99       |24 |2       |2       |2   |2     |2      |2           |2            |2             |2      |2            |2      |1                   |97 |\n",
      "|1    |4           |2  |2           |9999-99-99|2      |2        |30 |97      |2       |2   |1     |2      |2           |2            |2             |2      |2            |2      |1                   |2  |\n",
      "|2    |4           |2  |2           |9999-99-99|2      |1        |63 |97      |2       |2   |2     |2      |2           |2            |2             |2      |2            |2      |1                   |2  |\n",
      "|1    |4           |2  |2           |9999-99-99|2      |1        |39 |97      |1       |2   |2     |2      |1           |2            |2             |2      |2            |2      |1                   |2  |\n",
      "|2    |4           |2  |1           |9999-99-99|97     |2        |33 |97      |2       |2   |2     |2      |2           |1            |2             |1      |2            |1      |1                   |97 |\n",
      "+-----+------------+---+------------+----------+-------+---------+---+--------+--------+----+------+-------+------------+-------------+--------------+-------+-------------+-------+--------------------+---+\n",
      "only showing top 20 rows\n",
      "\n",
      "DATA SET COUNT: 1048575\n",
      "root\n",
      " |-- USMER: integer (nullable = true)\n",
      " |-- MEDICAL_UNIT: integer (nullable = true)\n",
      " |-- SEX: integer (nullable = true)\n",
      " |-- PATIENT_TYPE: integer (nullable = true)\n",
      " |-- DATE_DIED: string (nullable = true)\n",
      " |-- INTUBED: integer (nullable = true)\n",
      " |-- PNEUMONIA: integer (nullable = true)\n",
      " |-- AGE: integer (nullable = true)\n",
      " |-- PREGNANT: integer (nullable = true)\n",
      " |-- DIABETES: integer (nullable = true)\n",
      " |-- COPD: integer (nullable = true)\n",
      " |-- ASTHMA: integer (nullable = true)\n",
      " |-- INMSUPR: integer (nullable = true)\n",
      " |-- HIPERTENSION: integer (nullable = true)\n",
      " |-- OTHER_DISEASE: integer (nullable = true)\n",
      " |-- CARDIOVASCULAR: integer (nullable = true)\n",
      " |-- OBESITY: integer (nullable = true)\n",
      " |-- RENAL_CHRONIC: integer (nullable = true)\n",
      " |-- TOBACCO: integer (nullable = true)\n",
      " |-- CLASIFFICATION_FINAL: integer (nullable = false)\n",
      " |-- ICU: integer (nullable = true)"
     ]
    }
   ],
   "source": [
    "# Initial Data Exploration\n",
    "covid_read.show(truncate=False)\n",
    "print(f\"DATA SET COUNT: {covid_read.count()}\")\n",
    "covid_read.printSchema()"
   ]
  },
  {
   "cell_type": "markdown",
   "id": "bef53423-9d01-4f6b-bfac-6d2e8411f394",
   "metadata": {},
   "source": [
    "Here, we can see the dataset's count and schema, showing the column names and data types for each field."
   ]
  },
  {
   "cell_type": "code",
   "execution_count": 5,
   "id": "84c00a5f-677a-4b85-83ab-3f21a496b8bd",
   "metadata": {
    "execution": {
     "iopub.execute_input": "2024-11-09T01:45:00.128401Z",
     "iopub.status.busy": "2024-11-09T01:45:00.128163Z",
     "iopub.status.idle": "2024-11-09T01:45:02.600319Z",
     "shell.execute_reply": "2024-11-09T01:45:02.599814Z",
     "shell.execute_reply.started": "2024-11-09T01:45:00.128381Z"
    },
    "executionRoleArn": "arn:aws:iam::961341511683:role/service-role/AmazonEMRStudio_RuntimeRole_1731096402233",
    "tags": []
   },
   "outputs": [
    {
     "data": {
      "application/vnd.jupyter.widget-view+json": {
       "model_id": "af7d87dec09d4f5e8bd9f22c860e965c",
       "version_major": 2,
       "version_minor": 0
      },
      "text/plain": [
       "VBox()"
      ]
     },
     "metadata": {},
     "output_type": "display_data"
    },
    {
     "data": {
      "application/vnd.jupyter.widget-view+json": {
       "model_id": "",
       "version_major": 2,
       "version_minor": 0
      },
      "text/plain": [
       "FloatProgress(value=0.0, bar_style='info', description='Progress:', layout=Layout(height='25px', width='50%'),…"
      ]
     },
     "metadata": {},
     "output_type": "display_data"
    },
    {
     "name": "stdout",
     "output_type": "stream",
     "text": [
      "+-----+------------+---+------------+---------+-------+---------+---+--------+--------+----+------+-------+------------+-------------+--------------+-------+-------------+-------+--------------------+---+\n",
      "|USMER|MEDICAL_UNIT|SEX|PATIENT_TYPE|DATE_DIED|INTUBED|PNEUMONIA|AGE|PREGNANT|DIABETES|COPD|ASTHMA|INMSUPR|HIPERTENSION|OTHER_DISEASE|CARDIOVASCULAR|OBESITY|RENAL_CHRONIC|TOBACCO|CLASIFFICATION_FINAL|ICU|\n",
      "+-----+------------+---+------------+---------+-------+---------+---+--------+--------+----+------+-------+------------+-------------+--------------+-------+-------------+-------+--------------------+---+\n",
      "|    0|           0|  0|           0|        0|      0|        0|  0|       0|       0|   0|     0|      0|           0|            0|             0|      0|            0|      0|                   0|  0|\n",
      "+-----+------------+---+------------+---------+-------+---------+---+--------+--------+----+------+-------+------------+-------------+--------------+-------+-------------+-------+--------------------+---+"
     ]
    }
   ],
   "source": [
    "# Count missing values in each column\n",
    "missing_counts = covid_read.select([(count(when(col(c).isNull(), c)).alias(c)) for c in covid_read.columns])\n",
    "missing_counts.show()"
   ]
  },
  {
   "cell_type": "code",
   "execution_count": 6,
   "id": "04dcf041-2126-4e17-8e0d-3f718bd157dd",
   "metadata": {
    "execution": {
     "iopub.execute_input": "2024-11-09T01:45:10.013665Z",
     "iopub.status.busy": "2024-11-09T01:45:10.013294Z",
     "iopub.status.idle": "2024-11-09T01:45:12.414385Z",
     "shell.execute_reply": "2024-11-09T01:45:12.413809Z",
     "shell.execute_reply.started": "2024-11-09T01:45:10.013642Z"
    },
    "executionRoleArn": "arn:aws:iam::961341511683:role/service-role/AmazonEMRStudio_RuntimeRole_1731096402233",
    "tags": []
   },
   "outputs": [
    {
     "data": {
      "application/vnd.jupyter.widget-view+json": {
       "model_id": "6a7cbada1e8f400fb1b1c6cea959266b",
       "version_major": 2,
       "version_minor": 0
      },
      "text/plain": [
       "VBox()"
      ]
     },
     "metadata": {},
     "output_type": "display_data"
    },
    {
     "data": {
      "application/vnd.jupyter.widget-view+json": {
       "model_id": "",
       "version_major": 2,
       "version_minor": 0
      },
      "text/plain": [
       "FloatProgress(value=0.0, bar_style='info', description='Progress:', layout=Layout(height='25px', width='50%'),…"
      ]
     },
     "metadata": {},
     "output_type": "display_data"
    },
    {
     "name": "stdout",
     "output_type": "stream",
     "text": [
      "+-----+------------+---+------------+----------+-------+---------+---+--------+--------+----+------+-------+------------+-------------+--------------+-------+-------------+-------+--------------------+---+\n",
      "|USMER|MEDICAL_UNIT|SEX|PATIENT_TYPE| DATE_DIED|INTUBED|PNEUMONIA|AGE|PREGNANT|DIABETES|COPD|ASTHMA|INMSUPR|HIPERTENSION|OTHER_DISEASE|CARDIOVASCULAR|OBESITY|RENAL_CHRONIC|TOBACCO|CLASIFFICATION_FINAL|ICU|\n",
      "+-----+------------+---+------------+----------+-------+---------+---+--------+--------+----+------+-------+------------+-------------+--------------+-------+-------------+-------+--------------------+---+\n",
      "|    2|           4|  2|           1|9999-99-99|     97|        2| 48|      97|       2|   2|     2|      2|           2|            2|             2|      2|            2|      2|                   1| 97|\n",
      "|    2|           4|  2|           1|9999-99-99|     97|        2| 48|      97|       2|   2|     2|      2|           2|            2|             2|      2|            2|      2|                   1| 97|\n",
      "|    2|           4|  1|           1|9999-99-99|     97|        2| 62|       2|       2|   2|     2|      2|           1|            2|             2|      2|            2|      2|                   0| 97|\n",
      "|    1|           4|  1|           1|9999-99-99|     97|        2| 47|       2|       2|   2|     2|      2|           2|            2|             2|      1|            2|      2|                   0| 97|\n",
      "|    2|           4|  1|           1|9999-99-99|     97|        2| 26|       2|       2|   2|     1|      2|           2|            2|             2|      2|            2|      2|                   1| 97|\n",
      "|    1|           4|  2|           1|9999-99-99|     97|        2| 30|      97|       2|   2|     2|      2|           2|            2|             2|      2|            2|      2|                   1| 97|\n",
      "|    1|           4|  1|           1|9999-99-99|     97|       99| 30|       2|       2|   2|     2|      2|           2|            2|             2|      2|            2|      2|                   1| 97|\n",
      "|    1|           4|  1|           1|9999-99-99|     97|        2| 47|       2|       1|   2|     2|      2|           1|            2|             2|      2|            2|      2|                   1| 97|\n",
      "|    2|           4|  2|           1|9999-99-99|     97|        2| 27|      97|       2|   2|     2|      2|           2|            2|             2|      1|            2|      2|                   0| 97|\n",
      "|    1|           4|  2|           2|9999-99-99|      2|        1| 65|      97|       2|   2|     2|      2|           2|            2|             2|      2|            2|      2|                   0|  2|\n",
      "|    2|           4|  2|           2|9999-99-99|      2|        2| 51|      97|       1|   2|     2|      2|           1|            1|             2|      2|            2|      2|                   0|  2|\n",
      "|    1|           4|  1|           1|9999-99-99|     97|        2| 46|       2|       2|   2|     2|      2|           1|            2|             2|      2|            2|      2|                   0| 97|\n",
      "|    2|           4|  2|           1|9999-99-99|     97|        1| 33|      97|       2|   2|     2|      2|           2|            2|             2|      2|            2|      2|                   0| 97|\n",
      "|    2|           4|  1|           1|9999-99-99|     97|        2| 44|       2|       2|   2|     2|      2|           2|            2|             2|      1|            2|      2|                   0| 97|\n",
      "|    1|           4|  1|           1|9999-99-99|     97|        2| 36|       2|       2|   2|     2|      2|           2|            2|             2|      2|            2|      1|                   0| 97|\n",
      "|    1|           4|  2|           1|9999-99-99|     97|        2| 57|      97|       1|   2|     2|      2|           1|            1|             2|      2|            2|      2|                   0| 97|\n",
      "|    2|           4|  2|           1|9999-99-99|     97|        2| 53|      97|       2|   2|     2|      2|           1|            2|             2|      2|            2|      2|                   0| 97|\n",
      "|    2|           4|  2|           1|9999-99-99|     97|        2| 38|      97|       2|   2|     2|      2|           2|            2|             2|      1|            2|      2|                   0| 97|\n",
      "|    2|           4|  1|           2|9999-99-99|      2|        2| 53|       2|       2|   2|     1|      2|           2|            2|             2|      2|            2|      2|                   0|  2|\n",
      "|    2|           4|  1|           1|9999-99-99|     97|        2| 37|       2|       2|   2|     2|      2|           2|            2|             2|      1|            2|      2|                   0| 97|\n",
      "+-----+------------+---+------------+----------+-------+---------+---+--------+--------+----+------+-------+------------+-------------+--------------+-------+-------------+-------+--------------------+---+\n",
      "only showing top 20 rows"
     ]
    }
   ],
   "source": [
    "# Find and drop duplicate rows\n",
    "covid_data_final = covid_read.dropDuplicates()\n",
    "\n",
    "# Drop rows with null values\n",
    "covid_data_final_cleaned = covid_read.na.drop()\n",
    "covid_data_final_cleaned.show()"
   ]
  },
  {
   "cell_type": "code",
   "execution_count": 7,
   "id": "57b2114b-baf8-4088-b7ac-aacbf267019a",
   "metadata": {
    "execution": {
     "iopub.execute_input": "2024-11-09T01:45:19.205436Z",
     "iopub.status.busy": "2024-11-09T01:45:19.205072Z",
     "iopub.status.idle": "2024-11-09T01:45:32.787147Z",
     "shell.execute_reply": "2024-11-09T01:45:32.786587Z",
     "shell.execute_reply.started": "2024-11-09T01:45:19.205415Z"
    },
    "executionRoleArn": "arn:aws:iam::961341511683:role/service-role/AmazonEMRStudio_RuntimeRole_1731096402233",
    "tags": []
   },
   "outputs": [
    {
     "data": {
      "application/vnd.jupyter.widget-view+json": {
       "model_id": "2a3c7706c1e5467f83ce14005fb4a467",
       "version_major": 2,
       "version_minor": 0
      },
      "text/plain": [
       "VBox()"
      ]
     },
     "metadata": {},
     "output_type": "display_data"
    },
    {
     "data": {
      "application/vnd.jupyter.widget-view+json": {
       "model_id": "",
       "version_major": 2,
       "version_minor": 0
      },
      "text/plain": [
       "FloatProgress(value=0.0, bar_style='info', description='Progress:', layout=Layout(height='25px', width='50%'),…"
      ]
     },
     "metadata": {},
     "output_type": "display_data"
    },
    {
     "name": "stdout",
     "output_type": "stream",
     "text": [
      "+-------+------------------+------------------+------------------+-----------------+------------------+\n",
      "|summary|               AGE|           INTUBED|         PNEUMONIA|          OBESITY|          DIABETES|\n",
      "+-------+------------------+------------------+------------------+-----------------+------------------+\n",
      "|  count|           1048575|           1048575|           1048575|          1048575|           1048575|\n",
      "|   mean|41.794102472403026| 79.52287533080609|3.3468306988055216|2.125175595450969|2.1864044059795438|\n",
      "| stddev|16.907389199431204|36.868886275044304|11.912881086507994|5.175445110188411|5.4242417878883415|\n",
      "|    min|                 0|                 1|                 1|                1|                 1|\n",
      "|    max|               121|                99|                99|               98|                98|\n",
      "+-------+------------------+------------------+------------------+-----------------+------------------+"
     ]
    }
   ],
   "source": [
    "# Numeric Columns for EDA\n",
    "numeric_cols = [\"AGE\", \"INTUBED\", \"PNEUMONIA\", \"OBESITY\", \"DIABETES\"]\n",
    "\n",
    "# Visualize distributions of numeric columns (convert to Pandas for plotting)\n",
    "covid_pd = covid_data_final_cleaned.toPandas()\n",
    "\n",
    "# EDA: Descriptive Statistics\n",
    "covid_data_final_cleaned.describe(numeric_cols).show()"
   ]
  },
  {
   "cell_type": "markdown",
   "id": "288a08f2-9956-4be0-b5c4-db435e1e43ab",
   "metadata": {},
   "source": [
    "Here, It displays descriptive statistics (such as count, mean, standard deviation, min, max) for the selected numeric columns [\"AGE\", \"INTUBED\", \"PNEUMONIA\", \"OBESITY\", \"DIABETES\"]."
   ]
  },
  {
   "cell_type": "code",
   "execution_count": 8,
   "id": "983553cb-1093-42c2-a9eb-fd20ef52e695",
   "metadata": {
    "execution": {
     "iopub.execute_input": "2024-11-09T01:45:36.980697Z",
     "iopub.status.busy": "2024-11-09T01:45:36.980359Z",
     "iopub.status.idle": "2024-11-09T01:45:51.177702Z",
     "shell.execute_reply": "2024-11-09T01:45:51.081461Z",
     "shell.execute_reply.started": "2024-11-09T01:45:36.980674Z"
    },
    "executionRoleArn": "arn:aws:iam::961341511683:role/service-role/AmazonEMRStudio_RuntimeRole_1731096402233",
    "tags": []
   },
   "outputs": [
    {
     "data": {
      "application/vnd.jupyter.widget-view+json": {
       "model_id": "4d737962c87745c39cb03a94aaf91815",
       "version_major": 2,
       "version_minor": 0
      },
      "text/plain": [
       "VBox()"
      ]
     },
     "metadata": {},
     "output_type": "display_data"
    },
    {
     "data": {
      "application/vnd.jupyter.widget-view+json": {
       "model_id": "",
       "version_major": 2,
       "version_minor": 0
      },
      "text/plain": [
       "FloatProgress(value=0.0, bar_style='info', description='Progress:', layout=Layout(height='25px', width='50%'),…"
      ]
     },
     "metadata": {},
     "output_type": "display_data"
    },
    {
     "name": "stdout",
     "output_type": "stream",
     "text": [
      "SEX: 2 unique values\n",
      "PATIENT_TYPE: 2 unique values\n",
      "PNEUMONIA: 3 unique values\n",
      "DIABETES: 3 unique values\n",
      "COPD: 3 unique values\n",
      "ASTHMA: 3 unique values\n",
      "INMSUPR: 3 unique values\n",
      "HIPERTENSION: 3 unique values\n",
      "OTHER_DISEASE: 3 unique values\n",
      "CARDIOVASCULAR: 3 unique values\n",
      "OBESITY: 3 unique values\n",
      "RENAL_CHRONIC: 3 unique values\n",
      "TOBACCO: 3 unique values\n",
      "ICU: 4 unique values"
     ]
    }
   ],
   "source": [
    "# Categorical data count\n",
    "categorical_cols = ['SEX', 'PATIENT_TYPE', 'PNEUMONIA', 'DIABETES', 'COPD', 'ASTHMA',\n",
    "                    'INMSUPR', 'HIPERTENSION', 'OTHER_DISEASE', 'CARDIOVASCULAR',\n",
    "                    'OBESITY', 'RENAL_CHRONIC', 'TOBACCO', 'ICU']\n",
    "\n",
    "# Count unique values in categorical columns\n",
    "for col in categorical_cols:\n",
    "    print(f\"{col}: {covid_data_final_cleaned.select(col).distinct().count()} unique values\")"
   ]
  },
  {
   "cell_type": "markdown",
   "id": "1fe7704e-a644-4e4b-8140-89f067bc2049",
   "metadata": {},
   "source": [
    "Then we iterated over each column in the list of categorical_cols - ['SEX', 'PATIENT_TYPE', 'PNEUMONIA', 'DIABETES', 'COPD', 'ASTHMA', 'INMSUPR', 'HIPERTENSION', 'OTHER_DISEASE', 'CARDIOVASCULAR', 'OBESITY', 'RENAL_CHRONIC', 'TOBACCO', 'ICU'] - and print the number of unique values found for each column within the covid_data_final_cleaned DataFrame."
   ]
  },
  {
   "cell_type": "code",
   "execution_count": 9,
   "id": "05f11bda-046c-4864-b558-244f129010ea",
   "metadata": {
    "execution": {
     "iopub.execute_input": "2024-11-09T01:47:08.064512Z",
     "iopub.status.busy": "2024-11-09T01:47:08.064136Z",
     "iopub.status.idle": "2024-11-09T01:47:08.194304Z",
     "shell.execute_reply": "2024-11-09T01:47:08.193829Z",
     "shell.execute_reply.started": "2024-11-09T01:47:08.064489Z"
    },
    "executionRoleArn": "arn:aws:iam::961341511683:role/service-role/AmazonEMRStudio_RuntimeRole_1731096402233",
    "tags": []
   },
   "outputs": [
    {
     "data": {
      "application/vnd.jupyter.widget-view+json": {
       "model_id": "a398e2545d26437abf78a74543ce76e8",
       "version_major": 2,
       "version_minor": 0
      },
      "text/plain": [
       "VBox()"
      ]
     },
     "metadata": {},
     "output_type": "display_data"
    },
    {
     "data": {
      "application/vnd.jupyter.widget-view+json": {
       "model_id": "",
       "version_major": 2,
       "version_minor": 0
      },
      "text/plain": [
       "FloatProgress(value=0.0, bar_style='info', description='Progress:', layout=Layout(height='25px', width='50%'),…"
      ]
     },
     "metadata": {},
     "output_type": "display_data"
    }
   ],
   "source": [
    "from pyspark.sql.functions import col\n",
    "\n",
    "covid_data_final_cleaned = covid_data_final_cleaned.withColumn(\n",
    "    'AGE_GROUP',\n",
    "    F.when(col('AGE') < 20, 'Under 20')\n",
    "     .when((col('AGE') >= 20) & (col('AGE') < 40), '20-39')\n",
    "     .when((col('AGE') >= 40) & (col('AGE') < 60), '40-59')\n",
    "     .when(col('AGE') >= 60, '60 and above')\n",
    ")"
   ]
  },
  {
   "cell_type": "markdown",
   "id": "a9de0b33-33c5-45f1-8bc6-92b854d2e4f0",
   "metadata": {},
   "source": [
    "Then we added an AGE_GROUP column, which categorizes patients based on age ranges for age-based analysis. Specifically, it assigns individuals under 20 to the \"Under 20\" category, those aged 20-39 to the \"20-39\" group, those aged 40-59 to the \"40-59\" category, and anyone aged 60 or above to the \"60 and above\" group."
   ]
  },
  {
   "cell_type": "code",
   "execution_count": 10,
   "id": "4b235ab7-8adc-4237-8795-4bf560b0d7d2",
   "metadata": {
    "execution": {
     "iopub.execute_input": "2024-11-09T01:47:13.712840Z",
     "iopub.status.busy": "2024-11-09T01:47:13.712504Z",
     "iopub.status.idle": "2024-11-09T01:47:15.091783Z",
     "shell.execute_reply": "2024-11-09T01:47:15.091260Z",
     "shell.execute_reply.started": "2024-11-09T01:47:13.712817Z"
    },
    "executionRoleArn": "arn:aws:iam::961341511683:role/service-role/AmazonEMRStudio_RuntimeRole_1731096402233",
    "tags": []
   },
   "outputs": [
    {
     "data": {
      "application/vnd.jupyter.widget-view+json": {
       "model_id": "a2f61a4d7387481f9adeb3513cfed844",
       "version_major": 2,
       "version_minor": 0
      },
      "text/plain": [
       "VBox()"
      ]
     },
     "metadata": {},
     "output_type": "display_data"
    },
    {
     "data": {
      "application/vnd.jupyter.widget-view+json": {
       "model_id": "",
       "version_major": 2,
       "version_minor": 0
      },
      "text/plain": [
       "FloatProgress(value=0.0, bar_style='info', description='Progress:', layout=Layout(height='25px', width='50%'),…"
      ]
     },
     "metadata": {},
     "output_type": "display_data"
    },
    {
     "name": "stdout",
     "output_type": "stream",
     "text": [
      "+-----+------------+---+------------+---------+-------+---------+---+--------+--------+----+------+-------+------------+-------------+--------------+-------+-------------+-------+--------------------+---+---------+\n",
      "|USMER|MEDICAL_UNIT|SEX|PATIENT_TYPE|DATE_DIED|INTUBED|PNEUMONIA|AGE|PREGNANT|DIABETES|COPD|ASTHMA|INMSUPR|HIPERTENSION|OTHER_DISEASE|CARDIOVASCULAR|OBESITY|RENAL_CHRONIC|TOBACCO|CLASIFFICATION_FINAL|ICU|AGE_GROUP|\n",
      "+-----+------------+---+------------+---------+-------+---------+---+--------+--------+----+------+-------+------------+-------------+--------------+-------+-------------+-------+--------------------+---+---------+\n",
      "|    0|           0|  0|           0|        0|      0|        0|  0|       0|       0|   0|     0|      0|           0|            0|             0|      0|            0|      0|                   0|  0|        0|\n",
      "+-----+------------+---+------------+---------+-------+---------+---+--------+--------+----+------+-------+------------+-------------+--------------+-------+-------------+-------+--------------------+---+---------+"
     ]
    }
   ],
   "source": [
    "# Re-evaluate nulls after feature engineering\n",
    "covid_data_final_cleaned.select(\n",
    "    [count(when(col(column).isNull(), column)).alias(column) for column in covid_data_final_cleaned.columns]\n",
    ").show()"
   ]
  },
  {
   "cell_type": "code",
   "execution_count": 11,
   "id": "ff500bc0-4028-4240-813c-5a9f9a267f08",
   "metadata": {
    "execution": {
     "iopub.execute_input": "2024-11-09T01:47:26.526491Z",
     "iopub.status.busy": "2024-11-09T01:47:26.525779Z",
     "iopub.status.idle": "2024-11-09T01:47:40.123263Z",
     "shell.execute_reply": "2024-11-09T01:47:40.122709Z",
     "shell.execute_reply.started": "2024-11-09T01:47:26.526469Z"
    },
    "executionRoleArn": "arn:aws:iam::961341511683:role/service-role/AmazonEMRStudio_RuntimeRole_1731096402233",
    "tags": []
   },
   "outputs": [
    {
     "data": {
      "application/vnd.jupyter.widget-view+json": {
       "model_id": "368543cef856495f81e37ab9f91efe51",
       "version_major": 2,
       "version_minor": 0
      },
      "text/plain": [
       "VBox()"
      ]
     },
     "metadata": {},
     "output_type": "display_data"
    },
    {
     "data": {
      "application/vnd.jupyter.widget-view+json": {
       "model_id": "",
       "version_major": 2,
       "version_minor": 0
      },
      "text/plain": [
       "FloatProgress(value=0.0, bar_style='info', description='Progress:', layout=Layout(height='25px', width='50%'),…"
      ]
     },
     "metadata": {},
     "output_type": "display_data"
    }
   ],
   "source": [
    "# StringIndexer for categorical columns\n",
    "indexers = [StringIndexer(inputCol=col, outputCol=col+\"_index\").fit(covid_data_final_cleaned) for col in categorical_cols]\n",
    "feature_cols = [col+\"_index\" for col in categorical_cols] + ['AGE', 'AGE_GROUP']\n",
    "\n",
    "# Assemble features\n",
    "assembler = VectorAssembler(inputCols=feature_cols, outputCol=\"features\")"
   ]
  },
  {
   "cell_type": "markdown",
   "id": "b4a4033b-a21d-4f12-920f-ea1f910a7183",
   "metadata": {},
   "source": [
    "This will create a StringIndexer objects for each categorical column, transforming them into numeric indices. And then we use a VectorAssembler to combine these feature columns into a single feature vector column named features, which converts all variables into a format that machine learning models can process."
   ]
  },
  {
   "cell_type": "code",
   "execution_count": 12,
   "id": "bbfa54e1-1fd2-4e67-b3bc-7c01b08561df",
   "metadata": {
    "execution": {
     "iopub.execute_input": "2024-11-09T01:47:49.176567Z",
     "iopub.status.busy": "2024-11-09T01:47:49.176086Z",
     "iopub.status.idle": "2024-11-09T01:48:00.908074Z",
     "shell.execute_reply": "2024-11-09T01:48:00.907532Z",
     "shell.execute_reply.started": "2024-11-09T01:47:49.176540Z"
    },
    "executionRoleArn": "arn:aws:iam::961341511683:role/service-role/AmazonEMRStudio_RuntimeRole_1731096402233",
    "tags": []
   },
   "outputs": [
    {
     "data": {
      "application/vnd.jupyter.widget-view+json": {
       "model_id": "6c3ffdfc929749e7b0d5c3658387c569",
       "version_major": 2,
       "version_minor": 0
      },
      "text/plain": [
       "VBox()"
      ]
     },
     "metadata": {},
     "output_type": "display_data"
    },
    {
     "data": {
      "application/vnd.jupyter.widget-view+json": {
       "model_id": "",
       "version_major": 2,
       "version_minor": 0
      },
      "text/plain": [
       "FloatProgress(value=0.0, bar_style='info', description='Progress:', layout=Layout(height='25px', width='50%'),…"
      ]
     },
     "metadata": {},
     "output_type": "display_data"
    }
   ],
   "source": [
    "# Define categorical columns, including the new AGE_GROUP column\n",
    "categorical_cols = ['SEX', 'PATIENT_TYPE', 'PNEUMONIA', 'DIABETES', 'COPD', 'ASTHMA',\n",
    "                    'INMSUPR', 'HIPERTENSION', 'OTHER_DISEASE', 'CARDIOVASCULAR',\n",
    "                    'OBESITY', 'RENAL_CHRONIC', 'TOBACCO', 'ICU', 'AGE_GROUP']\n",
    "\n",
    "# Apply StringIndexer to all categorical columns\n",
    "indexers = [StringIndexer(inputCol=col, outputCol=col+\"_index\").fit(covid_data_final_cleaned) for col in categorical_cols]\n",
    "\n",
    "# Define feature columns for VectorAssembler\n",
    "feature_cols = [col+\"_index\" for col in categorical_cols] + ['AGE']  # AGE is numeric, so no need to index\n",
    "\n",
    "# Assemble features\n",
    "assembler = VectorAssembler(inputCols=feature_cols, outputCol=\"features\")"
   ]
  },
  {
   "cell_type": "code",
   "execution_count": 13,
   "id": "8db488f4-daba-43a5-9cc1-5447e6db903e",
   "metadata": {
    "execution": {
     "iopub.execute_input": "2024-11-09T01:48:00.909364Z",
     "iopub.status.busy": "2024-11-09T01:48:00.909049Z",
     "iopub.status.idle": "2024-11-09T01:48:01.258662Z",
     "shell.execute_reply": "2024-11-09T01:48:01.258171Z",
     "shell.execute_reply.started": "2024-11-09T01:48:00.909321Z"
    },
    "executionRoleArn": "arn:aws:iam::961341511683:role/service-role/AmazonEMRStudio_RuntimeRole_1731096402233",
    "tags": []
   },
   "outputs": [
    {
     "data": {
      "application/vnd.jupyter.widget-view+json": {
       "model_id": "3fe343bd19dd4fee905599b243e1c27e",
       "version_major": 2,
       "version_minor": 0
      },
      "text/plain": [
       "VBox()"
      ]
     },
     "metadata": {},
     "output_type": "display_data"
    },
    {
     "data": {
      "application/vnd.jupyter.widget-view+json": {
       "model_id": "",
       "version_major": 2,
       "version_minor": 0
      },
      "text/plain": [
       "FloatProgress(value=0.0, bar_style='info', description='Progress:', layout=Layout(height='25px', width='50%'),…"
      ]
     },
     "metadata": {},
     "output_type": "display_data"
    }
   ],
   "source": [
    "# function to evaluate models and print accuracy and F1 score\n",
    "def evaluate_model(predictions, model_name):\n",
    "    accuracy = accuracy_evaluator.evaluate(predictions)\n",
    "    f1_score = f1_evaluator.evaluate(predictions)\n",
    "    print(f\"{model_name} - Accuracy: {accuracy * 100:.2f}%, F1 Score: {f1_score * 100:.2f}%\")\n",
    "\n",
    "# Split data into training and testing sets\n",
    "train_data, test_data = covid_data_final_cleaned.randomSplit([0.8, 0.2], seed=42)\n",
    "\n",
    "# Initialize evaluators for accuracy and F1 score\n",
    "#accuracy_evaluator = MulticlassClassificationEvaluator(labelCol=\"CLASIFFICATION_FINAL\", predictionCol=\"prediction\", metricName=\"accuracy\")\n",
    "#f1_evaluator = MulticlassClassificationEvaluator(labelCol=\"CLASIFFICATION_FINAL\", predictionCol=\"prediction\", metricName=\"f1\")\n",
    "accuracy_evaluator = BinaryClassificationEvaluator(labelCol=\"CLASIFFICATION_FINAL\", rawPredictionCol=\"prediction\", metricName=\"areaUnderROC\")\n",
    "f1_evaluator = BinaryClassificationEvaluator(labelCol=\"CLASIFFICATION_FINAL\", rawPredictionCol=\"prediction\", metricName=\"areaUnderPR\")"
   ]
  },
  {
   "cell_type": "markdown",
   "id": "c7eb15ae-8b35-4ced-af4d-31b1e3b02bb8",
   "metadata": {},
   "source": [
    "We then split the data into training (60%) and testing (40%) sets. Then Initialized evaluators for accuracy (using ROC area) and F1 score (using Precision-Recall area) for binary classification. And the evaluate_model function takes predictions and prints the accuracy and F1 score for a given model name."
   ]
  },
  {
   "cell_type": "code",
   "execution_count": 14,
   "id": "71baf36d-300c-44cb-b4b1-9d23e55e06d0",
   "metadata": {
    "execution": {
     "iopub.execute_input": "2024-11-09T01:48:03.930480Z",
     "iopub.status.busy": "2024-11-09T01:48:03.930137Z",
     "iopub.status.idle": "2024-11-09T01:58:29.622158Z",
     "shell.execute_reply": "2024-11-09T01:58:29.621655Z",
     "shell.execute_reply.started": "2024-11-09T01:48:03.930457Z"
    },
    "executionRoleArn": "arn:aws:iam::961341511683:role/service-role/AmazonEMRStudio_RuntimeRole_1731096402233",
    "tags": []
   },
   "outputs": [
    {
     "data": {
      "application/vnd.jupyter.widget-view+json": {
       "model_id": "fa82497fa3ee449bb4aa4e40c194d6e8",
       "version_major": 2,
       "version_minor": 0
      },
      "text/plain": [
       "VBox()"
      ]
     },
     "metadata": {},
     "output_type": "display_data"
    },
    {
     "data": {
      "application/vnd.jupyter.widget-view+json": {
       "model_id": "",
       "version_major": 2,
       "version_minor": 0
      },
      "text/plain": [
       "FloatProgress(value=0.0, bar_style='info', description='Progress:', layout=Layout(height='25px', width='50%'),…"
      ]
     },
     "metadata": {},
     "output_type": "display_data"
    },
    {
     "name": "stderr",
     "output_type": "stream",
     "text": [
      "Exception in thread cell_monitor-14:\n",
      "Traceback (most recent call last):\n",
      "  File \"/usr/lib64/python3.7/threading.py\", line 926, in _bootstrap_inner\n",
      "    self.run()\n",
      "  File \"/usr/lib64/python3.7/threading.py\", line 870, in run\n",
      "    self._target(*self._args, **self._kwargs)\n",
      "  File \"/home/hadoop/spark-magic/spark_monitoring_widget/src/awseditorssparkmonitoringwidget/cellmonitor.py\", line 157, in cell_monitor\n",
      "    job_group_filtered_jobs = [job for job in jobs_data if job['jobGroup'] == str(statement_id)]\n",
      "  File \"/home/hadoop/spark-magic/spark_monitoring_widget/src/awseditorssparkmonitoringwidget/cellmonitor.py\", line 157, in <listcomp>\n",
      "    job_group_filtered_jobs = [job for job in jobs_data if job['jobGroup'] == str(statement_id)]\n",
      "KeyError: 'jobGroup'\n",
      "\n"
     ]
    },
    {
     "name": "stdout",
     "output_type": "stream",
     "text": [
      "Random Forest Classifier - Accuracy: 58.83%, F1 Score: 67.29%"
     ]
    }
   ],
   "source": [
    "# 1. Random Forest Classifier\n",
    "rf_classifier = RandomForestClassifier(labelCol=\"CLASIFFICATION_FINAL\", featuresCol=\"features\")\n",
    "rf_pipeline = Pipeline(stages=indexers + [assembler, rf_classifier])\n",
    "\n",
    "# Parameter grid for Random Forest\n",
    "rf_paramGrid = ParamGridBuilder().addGrid(rf_classifier.numTrees, [50, 100]).addGrid(rf_classifier.maxDepth, [5, 10]).build()\n",
    "rf_crossval = CrossValidator(estimator=rf_pipeline, estimatorParamMaps=rf_paramGrid, evaluator=accuracy_evaluator, numFolds=10)\n",
    "\n",
    "# Train and evaluate Random Forest\n",
    "rf_model = rf_crossval.fit(train_data)\n",
    "rf_predictions = rf_model.transform(test_data)\n",
    "evaluate_model(rf_predictions, \"Random Forest Classifier\")"
   ]
  },
  {
   "cell_type": "markdown",
   "id": "7233f969-c6ce-41d3-9129-0c5c462855ee",
   "metadata": {},
   "source": [
    "This block of code sets up a RandomForestClassifier pipeline with preprocessing steps. A parameter grid is defined to test different combinations of tree counts (50 and 100) and maximum tree depths (5 and 10) and a CrossValidator with 10 folds is used. The model is then trained on the training data, predictions are made on the test data."
   ]
  },
  {
   "cell_type": "code",
   "execution_count": 15,
   "id": "6dab5932-d8d3-4904-a689-060d43498047",
   "metadata": {
    "execution": {
     "iopub.execute_input": "2024-11-09T01:58:29.623528Z",
     "iopub.status.busy": "2024-11-09T01:58:29.623191Z",
     "iopub.status.idle": "2024-11-09T02:00:25.352401Z",
     "shell.execute_reply": "2024-11-09T02:00:25.351912Z",
     "shell.execute_reply.started": "2024-11-09T01:58:29.623509Z"
    },
    "executionRoleArn": "arn:aws:iam::961341511683:role/service-role/AmazonEMRStudio_RuntimeRole_1731096402233",
    "tags": []
   },
   "outputs": [
    {
     "data": {
      "application/vnd.jupyter.widget-view+json": {
       "model_id": "8a54fd0b4d6f46b685d20b948149ce3b",
       "version_major": 2,
       "version_minor": 0
      },
      "text/plain": [
       "VBox()"
      ]
     },
     "metadata": {},
     "output_type": "display_data"
    },
    {
     "name": "stderr",
     "output_type": "stream",
     "text": [
      "Exception in thread cell_monitor-15:\n",
      "Traceback (most recent call last):\n",
      "  File \"/usr/lib64/python3.7/threading.py\", line 926, in _bootstrap_inner\n",
      "    self.run()\n",
      "  File \"/usr/lib64/python3.7/threading.py\", line 870, in run\n",
      "    self._target(*self._args, **self._kwargs)\n",
      "  File \"/home/hadoop/spark-magic/spark_monitoring_widget/src/awseditorssparkmonitoringwidget/cellmonitor.py\", line 157, in cell_monitor\n",
      "    job_group_filtered_jobs = [job for job in jobs_data if job['jobGroup'] == str(statement_id)]\n",
      "  File \"/home/hadoop/spark-magic/spark_monitoring_widget/src/awseditorssparkmonitoringwidget/cellmonitor.py\", line 157, in <listcomp>\n",
      "    job_group_filtered_jobs = [job for job in jobs_data if job['jobGroup'] == str(statement_id)]\n",
      "KeyError: 'jobGroup'\n",
      "\n"
     ]
    },
    {
     "data": {
      "application/vnd.jupyter.widget-view+json": {
       "model_id": "",
       "version_major": 2,
       "version_minor": 0
      },
      "text/plain": [
       "FloatProgress(value=0.0, bar_style='info', description='Progress:', layout=Layout(height='25px', width='50%'),…"
      ]
     },
     "metadata": {},
     "output_type": "display_data"
    },
    {
     "name": "stdout",
     "output_type": "stream",
     "text": [
      "Decision Tree Classifier - Accuracy: 59.08%, F1 Score: 67.51%"
     ]
    }
   ],
   "source": [
    "# 2. Decision Tree Classifier\n",
    "dt_classifier = DecisionTreeClassifier(labelCol=\"CLASIFFICATION_FINAL\", featuresCol=\"features\")\n",
    "dt_pipeline = Pipeline(stages=indexers + [assembler, dt_classifier])\n",
    "\n",
    "# Parameter grid for Decision Tree\n",
    "dt_paramGrid = ParamGridBuilder().addGrid(dt_classifier.maxDepth, [5, 10, 15]).build()\n",
    "dt_crossval = CrossValidator(estimator=dt_pipeline, estimatorParamMaps=dt_paramGrid, evaluator=accuracy_evaluator, numFolds=10)\n",
    "\n",
    "# Train and evaluate Decision Tree\n",
    "dt_model = dt_crossval.fit(train_data)\n",
    "dt_predictions = dt_model.transform(test_data)\n",
    "evaluate_model(dt_predictions, \"Decision Tree Classifier\")"
   ]
  },
  {
   "cell_type": "markdown",
   "id": "0c9b1625-3545-44f7-b716-38e6ff0e6bd5",
   "metadata": {},
   "source": [
    "This block of code sets up a DecisionTreeClassifier pipeline. A parameter grid is defined to test different maximum tree depths (5, 10, and 15), and a CrossValidator with 10 folds is used. The model is then trained on the training data, and predictions are made on the test data."
   ]
  },
  {
   "cell_type": "code",
   "execution_count": 16,
   "id": "db2fb202-063f-4655-acab-448efb23f1b3",
   "metadata": {
    "execution": {
     "iopub.execute_input": "2024-11-09T02:00:25.353485Z",
     "iopub.status.busy": "2024-11-09T02:00:25.353148Z",
     "iopub.status.idle": "2024-11-09T02:01:57.268391Z",
     "shell.execute_reply": "2024-11-09T02:01:57.267886Z",
     "shell.execute_reply.started": "2024-11-09T02:00:25.353466Z"
    },
    "executionRoleArn": "arn:aws:iam::961341511683:role/service-role/AmazonEMRStudio_RuntimeRole_1731096402233",
    "tags": []
   },
   "outputs": [
    {
     "data": {
      "application/vnd.jupyter.widget-view+json": {
       "model_id": "2b36509135aa425c8a005ae96dc39fa9",
       "version_major": 2,
       "version_minor": 0
      },
      "text/plain": [
       "VBox()"
      ]
     },
     "metadata": {},
     "output_type": "display_data"
    },
    {
     "name": "stderr",
     "output_type": "stream",
     "text": [
      "Exception in thread cell_monitor-16:\n",
      "Traceback (most recent call last):\n",
      "  File \"/usr/lib64/python3.7/threading.py\", line 926, in _bootstrap_inner\n",
      "    self.run()\n",
      "  File \"/usr/lib64/python3.7/threading.py\", line 870, in run\n",
      "    self._target(*self._args, **self._kwargs)\n",
      "  File \"/home/hadoop/spark-magic/spark_monitoring_widget/src/awseditorssparkmonitoringwidget/cellmonitor.py\", line 157, in cell_monitor\n",
      "    job_group_filtered_jobs = [job for job in jobs_data if job['jobGroup'] == str(statement_id)]\n",
      "  File \"/home/hadoop/spark-magic/spark_monitoring_widget/src/awseditorssparkmonitoringwidget/cellmonitor.py\", line 157, in <listcomp>\n",
      "    job_group_filtered_jobs = [job for job in jobs_data if job['jobGroup'] == str(statement_id)]\n",
      "KeyError: 'jobGroup'\n",
      "\n"
     ]
    },
    {
     "data": {
      "application/vnd.jupyter.widget-view+json": {
       "model_id": "",
       "version_major": 2,
       "version_minor": 0
      },
      "text/plain": [
       "FloatProgress(value=0.0, bar_style='info', description='Progress:', layout=Layout(height='25px', width='50%'),…"
      ]
     },
     "metadata": {},
     "output_type": "display_data"
    },
    {
     "name": "stdout",
     "output_type": "stream",
     "text": [
      "Logistic Regression - Accuracy: 57.86%, F1 Score: 66.74%"
     ]
    }
   ],
   "source": [
    "# 3. Logistic Regression\n",
    "lr_classifier = LogisticRegression(labelCol=\"CLASIFFICATION_FINAL\", featuresCol=\"features\", maxIter=10)\n",
    "lr_pipeline = Pipeline(stages=indexers + [assembler, lr_classifier])\n",
    "\n",
    "# Parameter grid for Logistic Regression\n",
    "lr_paramGrid = ParamGridBuilder().addGrid(lr_classifier.regParam, [0.01, 0.1, 0.5]).build()\n",
    "lr_crossval = CrossValidator(estimator=lr_pipeline, estimatorParamMaps=lr_paramGrid, evaluator=accuracy_evaluator, numFolds=10)\n",
    "\n",
    "# Train and evaluate Logistic Regression\n",
    "lr_model = lr_crossval.fit(train_data)\n",
    "lr_predictions = lr_model.transform(test_data)\n",
    "evaluate_model(lr_predictions, \"Logistic Regression\")"
   ]
  },
  {
   "cell_type": "markdown",
   "id": "d107ae6a-eb0c-4b88-815e-5e9e8e94bf2e",
   "metadata": {},
   "source": [
    "This block of code sets up a LogisticRegression pipeline. A parameter grid is defined to test different regularization parameters (0.01, 0.1, and 0.5), and a CrossValidator with 10 folds is used. The model is then trained on the training data, and predictions are made on the test data."
   ]
  },
  {
   "cell_type": "code",
   "execution_count": 17,
   "id": "7c9dd675-3a5a-4a8f-95b8-7395a1974582",
   "metadata": {
    "execution": {
     "iopub.execute_input": "2024-11-09T02:01:57.269378Z",
     "iopub.status.busy": "2024-11-09T02:01:57.269152Z",
     "iopub.status.idle": "2024-11-09T02:04:52.080700Z",
     "shell.execute_reply": "2024-11-09T02:04:52.080186Z",
     "shell.execute_reply.started": "2024-11-09T02:01:57.269361Z"
    },
    "executionRoleArn": "arn:aws:iam::961341511683:role/service-role/AmazonEMRStudio_RuntimeRole_1731096402233",
    "tags": []
   },
   "outputs": [
    {
     "data": {
      "application/vnd.jupyter.widget-view+json": {
       "model_id": "7623f154beee456e9adb8bcb4388fcb9",
       "version_major": 2,
       "version_minor": 0
      },
      "text/plain": [
       "VBox()"
      ]
     },
     "metadata": {},
     "output_type": "display_data"
    },
    {
     "name": "stderr",
     "output_type": "stream",
     "text": [
      "Exception in thread cell_monitor-17:\n",
      "Traceback (most recent call last):\n",
      "  File \"/usr/lib64/python3.7/threading.py\", line 926, in _bootstrap_inner\n",
      "    self.run()\n",
      "  File \"/usr/lib64/python3.7/threading.py\", line 870, in run\n",
      "    self._target(*self._args, **self._kwargs)\n",
      "  File \"/home/hadoop/spark-magic/spark_monitoring_widget/src/awseditorssparkmonitoringwidget/cellmonitor.py\", line 157, in cell_monitor\n",
      "    job_group_filtered_jobs = [job for job in jobs_data if job['jobGroup'] == str(statement_id)]\n",
      "  File \"/home/hadoop/spark-magic/spark_monitoring_widget/src/awseditorssparkmonitoringwidget/cellmonitor.py\", line 157, in <listcomp>\n",
      "    job_group_filtered_jobs = [job for job in jobs_data if job['jobGroup'] == str(statement_id)]\n",
      "KeyError: 'jobGroup'\n",
      "\n"
     ]
    },
    {
     "data": {
      "application/vnd.jupyter.widget-view+json": {
       "model_id": "",
       "version_major": 2,
       "version_minor": 0
      },
      "text/plain": [
       "FloatProgress(value=0.0, bar_style='info', description='Progress:', layout=Layout(height='25px', width='50%'),…"
      ]
     },
     "metadata": {},
     "output_type": "display_data"
    },
    {
     "name": "stdout",
     "output_type": "stream",
     "text": [
      "Gradient-Boosted Tree Classifier - Accuracy: 58.93%, F1 Score: 67.36%"
     ]
    }
   ],
   "source": [
    "# 4. Gradient-Boosted Tree Classifier\n",
    "gbt_classifier = GBTClassifier(labelCol=\"CLASIFFICATION_FINAL\", featuresCol=\"features\", maxIter=10)\n",
    "gbt_pipeline = Pipeline(stages=indexers + [assembler, gbt_classifier])\n",
    "\n",
    "# Parameter grid for Gradient-Boosted Trees\n",
    "gbt_paramGrid = ParamGridBuilder().addGrid(gbt_classifier.maxDepth, [5, 10]).addGrid(gbt_classifier.maxIter, [10, 20]).build()\n",
    "gbt_crossval = CrossValidator(estimator=gbt_pipeline, estimatorParamMaps=gbt_paramGrid, evaluator=accuracy_evaluator, numFolds=3)\n",
    "\n",
    "# Train and evaluate Gradient-Boosted Trees\n",
    "gbt_model = gbt_crossval.fit(train_data)\n",
    "gbt_predictions = gbt_model.transform(test_data)\n",
    "evaluate_model(gbt_predictions, \"Gradient-Boosted Tree Classifier\")\n"
   ]
  },
  {
   "cell_type": "markdown",
   "id": "b807a8e8-ff2b-4b19-a056-22991eba44c1",
   "metadata": {},
   "source": [
    "This block of code sets up a GBTClassifier pipeline. A parameter grid is defined to test different maximum tree depths (5 and 10) and iterations (10 and 20), and a CrossValidator with 3 folds is used. The model is then trained on the training data, and predictions are made on the test data"
   ]
  },
  {
   "cell_type": "code",
   "execution_count": 18,
   "id": "2b82fda8-23a4-4a68-b618-fc977605dd09",
   "metadata": {
    "execution": {
     "iopub.execute_input": "2024-11-09T02:06:42.263310Z",
     "iopub.status.busy": "2024-11-09T02:06:42.262959Z",
     "iopub.status.idle": "2024-11-09T02:07:08.450519Z",
     "shell.execute_reply": "2024-11-09T02:07:08.450038Z",
     "shell.execute_reply.started": "2024-11-09T02:06:42.263285Z"
    },
    "executionRoleArn": "arn:aws:iam::961341511683:role/service-role/AmazonEMRStudio_RuntimeRole_1731096402233",
    "tags": []
   },
   "outputs": [
    {
     "data": {
      "application/vnd.jupyter.widget-view+json": {
       "model_id": "04014d890673465faadb84d421f4311d",
       "version_major": 2,
       "version_minor": 0
      },
      "text/plain": [
       "VBox()"
      ]
     },
     "metadata": {},
     "output_type": "display_data"
    },
    {
     "name": "stderr",
     "output_type": "stream",
     "text": [
      "Exception in thread cell_monitor-18:\n",
      "Traceback (most recent call last):\n",
      "  File \"/usr/lib64/python3.7/threading.py\", line 926, in _bootstrap_inner\n",
      "    self.run()\n",
      "  File \"/usr/lib64/python3.7/threading.py\", line 870, in run\n",
      "    self._target(*self._args, **self._kwargs)\n",
      "  File \"/home/hadoop/spark-magic/spark_monitoring_widget/src/awseditorssparkmonitoringwidget/cellmonitor.py\", line 157, in cell_monitor\n",
      "    job_group_filtered_jobs = [job for job in jobs_data if job['jobGroup'] == str(statement_id)]\n",
      "  File \"/home/hadoop/spark-magic/spark_monitoring_widget/src/awseditorssparkmonitoringwidget/cellmonitor.py\", line 157, in <listcomp>\n",
      "    job_group_filtered_jobs = [job for job in jobs_data if job['jobGroup'] == str(statement_id)]\n",
      "KeyError: 'jobGroup'\n",
      "\n"
     ]
    },
    {
     "data": {
      "application/vnd.jupyter.widget-view+json": {
       "model_id": "",
       "version_major": 2,
       "version_minor": 0
      },
      "text/plain": [
       "FloatProgress(value=0.0, bar_style='info', description='Progress:', layout=Layout(height='25px', width='50%'),…"
      ]
     },
     "metadata": {},
     "output_type": "display_data"
    }
   ],
   "source": [
    "model_path = \"s3://covid-data-project-final/model/\"\n",
    "dt_model.write().overwrite().save(model_path)"
   ]
  },
  {
   "cell_type": "markdown",
   "id": "bc88cdb4-cfe5-4206-92ea-c96c6e0ce4d5",
   "metadata": {},
   "source": [
    "This code block saves the model to S3 - s3://covid-data-project-final/model/"
   ]
  },
  {
   "cell_type": "code",
   "execution_count": null,
   "id": "08c7d500-54e3-41a5-be8d-8e75060a52db",
   "metadata": {},
   "outputs": [],
   "source": [
    "# Plotting Histograms\n",
    "plt.figure(figsize=(15, 10))\n",
    "for i, col in enumerate(numeric_cols):\n",
    "    plt.subplot(3, 2, i + 1)\n",
    "    sns.histplot(covid_pd[col], kde=True)\n",
    "    plt.title(f'Distribution of {col}')\n",
    "plt.tight_layout()\n",
    "plt.show()"
   ]
  },
  {
   "cell_type": "code",
   "execution_count": null,
   "id": "1e7792a4-b82e-4dec-8164-9ae5cbb67c6c",
   "metadata": {},
   "outputs": [],
   "source": [
    "# Check correlations\n",
    "plt.figure(figsize=(10, 8))\n",
    "correlation_matrix = covid_pd[numeric_cols].corr()\n",
    "sns.heatmap(correlation_matrix, annot=True, cmap='coolwarm')\n",
    "plt.title('Correlation Matrix')\n",
    "plt.show()"
   ]
  }
 ],
 "metadata": {
  "kernelspec": {
   "display_name": "PySpark",
   "language": "python",
   "name": "spark_magic_pyspark"
  },
  "language_info": {
   "codemirror_mode": {
    "name": "python",
    "version": 3
   },
   "file_extension": ".py",
   "mimetype": "text/x-python",
   "name": "pyspark",
   "pygments_lexer": "python3"
  }
 },
 "nbformat": 4,
 "nbformat_minor": 5
}
